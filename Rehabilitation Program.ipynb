{
 "cells": [
  {
   "cell_type": "markdown",
   "metadata": {},
   "source": [
    "# Rehabilitaion Program"
   ]
  },
  {
   "cell_type": "markdown",
   "metadata": {},
   "source": [
    "##  1. Problem statement"
   ]
  },
  {
   "cell_type": "markdown",
   "metadata": {},
   "source": [
    "###### There is a dataset of patients available those are treated for cardiology problem and for whom there is a kind rehabilitation program goes on. Since as due to different reasons many were unable to participate in the program. So a survey carried in which data of all patients were taken regarding reason for not joining the program, there gender, what is there age, whether they have car or not and what is the distance of  house/home of particular individual from the rehabilitation program centre.  Using this it is required to build a model using logistic regression method to predict whether new patient based upon his background  will join the program or not."
   ]
  },
  {
   "cell_type": "markdown",
   "metadata": {},
   "source": [
    "## Importing Libraries"
   ]
  },
  {
   "cell_type": "code",
   "execution_count": 89,
   "metadata": {},
   "outputs": [],
   "source": [
    "# data analysis\n",
    "\n",
    "import numpy as np\n",
    "import pandas as pd\n",
    "import sklearn as sk\n",
    "\n",
    "\n",
    "#Visualization\n",
    "import seaborn as sns\n",
    "import matplotlib.pyplot as plt\n",
    "\n",
    "# machine learning\n",
    "\n",
    "%matplotlib notebook\n",
    "from sklearn.preprocessing import MinMaxScaler\n",
    "from sklearn.cross_validation import train_test_split\n",
    "from sklearn.linear_model import LogisticRegression \n",
    "from sklearn.svm import SVC, LinearSVC \n",
    "from sklearn.ensemble import RandomForestClassifier\n",
    "from sklearn.neighbors import KNeighborsClassifier\n",
    "from sklearn.naive_bayes import GaussianNB\n",
    "from sklearn.linear_model import Perceptron\n",
    "from sklearn.linear_model import SGDClassifier\n",
    "from sklearn.tree import DecisionTreeClassifier"
   ]
  },
  {
   "cell_type": "markdown",
   "metadata": {},
   "source": [
    "### Acquire data\n"
   ]
  },
  {
   "cell_type": "code",
   "execution_count": 90,
   "metadata": {},
   "outputs": [
    {
     "name": "stdout",
     "output_type": "stream",
     "text": [
      "<class 'pandas.core.frame.DataFrame'>\n",
      "RangeIndex: 500 entries, 0 to 499\n",
      "Data columns (total 6 columns):\n",
      "Reason           156 non-null object\n",
      "Gender           500 non-null object\n",
      "Age              500 non-null object\n",
      "Mobility         500 non-null object\n",
      "Distance         500 non-null object\n",
      "Participation    500 non-null int64\n",
      "dtypes: int64(1), object(5)\n",
      "memory usage: 23.5+ KB\n"
     ]
    },
    {
     "data": {
      "text/html": [
       "<div>\n",
       "<style>\n",
       "    .dataframe thead tr:only-child th {\n",
       "        text-align: right;\n",
       "    }\n",
       "\n",
       "    .dataframe thead th {\n",
       "        text-align: left;\n",
       "    }\n",
       "\n",
       "    .dataframe tbody tr th {\n",
       "        vertical-align: top;\n",
       "    }\n",
       "</style>\n",
       "<table border=\"1\" class=\"dataframe\">\n",
       "  <thead>\n",
       "    <tr style=\"text-align: right;\">\n",
       "      <th></th>\n",
       "      <th>Reason</th>\n",
       "      <th>Gender</th>\n",
       "      <th>Age</th>\n",
       "      <th>Mobility</th>\n",
       "      <th>Distance</th>\n",
       "      <th>Participation</th>\n",
       "    </tr>\n",
       "  </thead>\n",
       "  <tbody>\n",
       "    <tr>\n",
       "      <th>0</th>\n",
       "      <td>Hospital readmission</td>\n",
       "      <td>M</td>\n",
       "      <td>61,3</td>\n",
       "      <td>No car</td>\n",
       "      <td>68,7</td>\n",
       "      <td>0</td>\n",
       "    </tr>\n",
       "    <tr>\n",
       "      <th>1</th>\n",
       "      <td>Hospital readmission</td>\n",
       "      <td>M</td>\n",
       "      <td>85,8</td>\n",
       "      <td>Car</td>\n",
       "      <td>86,3</td>\n",
       "      <td>0</td>\n",
       "    </tr>\n",
       "    <tr>\n",
       "      <th>2</th>\n",
       "      <td>Hospital readmission</td>\n",
       "      <td>F</td>\n",
       "      <td>65</td>\n",
       "      <td>No car</td>\n",
       "      <td>46,2</td>\n",
       "      <td>1</td>\n",
       "    </tr>\n",
       "    <tr>\n",
       "      <th>3</th>\n",
       "      <td>Hospital readmission</td>\n",
       "      <td>F</td>\n",
       "      <td>72,5</td>\n",
       "      <td>No car</td>\n",
       "      <td>39,7</td>\n",
       "      <td>0</td>\n",
       "    </tr>\n",
       "    <tr>\n",
       "      <th>4</th>\n",
       "      <td>Hospital readmission</td>\n",
       "      <td>M</td>\n",
       "      <td>93</td>\n",
       "      <td>No car</td>\n",
       "      <td>73,3</td>\n",
       "      <td>0</td>\n",
       "    </tr>\n",
       "  </tbody>\n",
       "</table>\n",
       "</div>"
      ],
      "text/plain": [
       "                 Reason Gender   Age Mobility Distance  Participation\n",
       "0  Hospital readmission      M  61,3   No car     68,7              0\n",
       "1  Hospital readmission      M  85,8      Car     86,3              0\n",
       "2  Hospital readmission      F    65   No car     46,2              1\n",
       "3  Hospital readmission      F  72,5   No car     39,7              0\n",
       "4  Hospital readmission      M    93   No car     73,3              0"
      ]
     },
     "execution_count": 90,
     "metadata": {},
     "output_type": "execute_result"
    }
   ],
   "source": [
    "data = pd.read_csv('Data.csv', sep = \";\", encoding = 'utf-16') #Reading csv files.\n",
    "\n",
    "data.info()\n",
    "\n",
    "data.head()"
   ]
  },
  {
   "cell_type": "markdown",
   "metadata": {},
   "source": [
    "###### Converting data into suitable data types"
   ]
  },
  {
   "cell_type": "code",
   "execution_count": 56,
   "metadata": {
    "collapsed": true
   },
   "outputs": [],
   "source": [
    "data['Age'] = data['Age'].str.replace(',', '.')\n",
    "data['Distance'] = data['Distance'].str.replace(',', '.')\n",
    "data['Age'] = pd.to_numeric(data['Age'])\n",
    "data['Distance'] = pd.to_numeric(data['Distance'])"
   ]
  },
  {
   "cell_type": "code",
   "execution_count": 57,
   "metadata": {},
   "outputs": [
    {
     "name": "stdout",
     "output_type": "stream",
     "text": [
      "<class 'pandas.core.frame.DataFrame'>\n",
      "RangeIndex: 500 entries, 0 to 499\n",
      "Data columns (total 6 columns):\n",
      "Reason           156 non-null object\n",
      "Gender           500 non-null object\n",
      "Age              500 non-null float64\n",
      "Mobility         500 non-null object\n",
      "Distance         500 non-null float64\n",
      "Participation    500 non-null int64\n",
      "dtypes: float64(2), int64(1), object(3)\n",
      "memory usage: 23.5+ KB\n"
     ]
    }
   ],
   "source": [
    "data.info()"
   ]
  },
  {
   "cell_type": "code",
   "execution_count": 58,
   "metadata": {},
   "outputs": [
    {
     "name": "stdout",
     "output_type": "stream",
     "text": [
      "                   Reason Gender   Age Mobility  Distance  Participation\n",
      "0    Hospital readmission      M  61.3   No car      68.7              0\n",
      "1    Hospital readmission      M  85.8      Car      86.3              0\n",
      "2    Hospital readmission      F  65.0   No car      46.2              1\n",
      "3    Hospital readmission      F  72.5   No car      39.7              0\n",
      "4    Hospital readmission      M  93.0   No car      73.3              0\n",
      "5    Hospital readmission      F  52.0      Car      33.7              1\n",
      "6    Hospital readmission      F  42.0      Car      25.7              1\n",
      "7    Hospital readmission      M  57.0      Car      37.4              1\n",
      "8    Hospital readmission      M  78.3   No car      66.1              0\n",
      "9    Hospital readmission      F  78.0      Car      60.1              1\n",
      "10   Hospital readmission      M  65.7   No car      68.5              0\n",
      "11   Hospital readmission      F  51.0      Car      33.3              1\n",
      "12   Hospital readmission      F  75.0      Car      55.5              1\n",
      "13   Hospital readmission      F  60.0      Car      38.9              1\n",
      "14   Hospital readmission      M  62.4   No car      63.1              0\n",
      "15   Hospital readmission      F  80.7   No car      45.0              0\n",
      "16   Hospital readmission      F  78.8      Car      83.7              0\n",
      "17   Hospital readmission      M  54.0      Car      34.7              1\n",
      "18   Hospital readmission      F  70.0   No car      50.5              1\n",
      "19   Hospital readmission      F  67.0      Car      47.7              1\n",
      "20   Hospital readmission      F  62.3   No car      50.2              0\n",
      "21   Hospital readmission      M  64.8      Car      22.6              0\n",
      "22   Hospital readmission      F  83.6      Car      80.0              0\n",
      "23   Hospital readmission      F  43.0      Car      26.9              1\n",
      "24   Hospital readmission      M  73.0      Car      53.1              1\n",
      "25   Hospital readmission      M  80.8   No car      55.4              0\n",
      "26   Hospital readmission      M  72.6   No car      50.0              0\n",
      "27   Hospital readmission      M  75.5   No car     105.6              0\n",
      "28   Hospital readmission      M  71.0   No car      51.5              1\n",
      "29   Hospital readmission      M  67.6      Car      64.4              0\n",
      "..                    ...    ...   ...      ...       ...            ...\n",
      "470                   NaN      F  96.3      Car      23.8              0\n",
      "471                   NaN      M  49.0   No car      32.1              1\n",
      "472                   NaN      M  68.0      Car      81.0              0\n",
      "473                   NaN      F  61.0   No car      39.5              1\n",
      "474                   NaN      F  80.6   No car      82.2              0\n",
      "475                   NaN      F  62.0      Car      41.4              1\n",
      "476                   NaN      F  64.0      Car      44.2              1\n",
      "477                   NaN      M  55.0      Car      34.8              1\n",
      "478                   NaN      M  65.0      Car      46.5              1\n",
      "479                   NaN      F  64.6      Car      48.3              0\n",
      "480                   NaN      F  63.3   No car      60.6              0\n",
      "481                   NaN      F  83.0   No car      63.7              1\n",
      "482                   NaN      M  81.7      Car      34.8              0\n",
      "483                   NaN      F  71.1   No car      54.0              0\n",
      "484                   NaN      F  75.0      Car      55.7              1\n",
      "485                   NaN      F  56.0      Car      36.3              1\n",
      "486                   NaN      M  83.0      Car      63.3              1\n",
      "487                   NaN      M  52.0      Car      74.0              0\n",
      "488                   NaN      M  72.7   No car      71.1              0\n",
      "489                   NaN      M  49.0      Car      31.3              1\n",
      "490                   NaN      F  59.0      Car      38.3              1\n",
      "491                   NaN      M  81.0   No car      55.2              0\n",
      "492                   NaN      F  43.0   No car      26.7              1\n",
      "493                   NaN      F  81.8   No car      41.7              0\n",
      "494                   NaN      F  74.4   No car      46.8              0\n",
      "495                   NaN      M  75.0      Car      55.9              1\n",
      "496                   NaN      M  62.0      Car      42.0              1\n",
      "497                   NaN      M  57.0   No car      37.5              1\n",
      "498                   NaN      M  88.0   No car      24.6              0\n",
      "499                   NaN      M  74.0      Car      54.5              1\n",
      "\n",
      "[500 rows x 6 columns]\n"
     ]
    }
   ],
   "source": [
    "print(data)"
   ]
  },
  {
   "cell_type": "markdown",
   "metadata": {},
   "source": [
    "###### Since only 'Reason' is missing in half of the data set, so i'm filling it with 'No reason'."
   ]
  },
  {
   "cell_type": "code",
   "execution_count": 59,
   "metadata": {
    "collapsed": true
   },
   "outputs": [],
   "source": [
    "data.Reason = data.Reason.fillna('No reason') #Filling missing values of reason"
   ]
  },
  {
   "cell_type": "markdown",
   "metadata": {},
   "source": [
    "## 2. Descriptive analysis of the data and explanation what the data is about.\n",
    "\n"
   ]
  },
  {
   "cell_type": "markdown",
   "metadata": {},
   "source": [
    "#### Features Available in dataset"
   ]
  },
  {
   "cell_type": "code",
   "execution_count": 60,
   "metadata": {},
   "outputs": [
    {
     "name": "stdout",
     "output_type": "stream",
     "text": [
      "['Reason' 'Gender' 'Age' 'Mobility' 'Distance' 'Participation']\n"
     ]
    }
   ],
   "source": [
    "print(data.columns.values)"
   ]
  },
  {
   "cell_type": "markdown",
   "metadata": {},
   "source": [
    "As from the data it is clear that 5 features are available such as **Reason** for not joining the program, **Gender** of patient, **Age** of patient, means of **Mobility** for patient, **Distance** of rehabilitation centre from there living location. "
   ]
  },
  {
   "cell_type": "markdown",
   "metadata": {},
   "source": [
    "#### Numerical features: Age, Distance \n",
    "\n",
    "**Continuous**: Age, Distance\n",
    "\n"
   ]
  },
  {
   "cell_type": "markdown",
   "metadata": {},
   "source": [
    "##### Categorical features: Reason, Gender, Mobiity     \n"
   ]
  },
  {
   "cell_type": "markdown",
   "metadata": {},
   "source": [
    "##### Feature having blank values : Reason\n"
   ]
  },
  {
   "cell_type": "markdown",
   "metadata": {},
   "source": [
    "##### Data types of features\n",
    "\n"
   ]
  },
  {
   "cell_type": "code",
   "execution_count": 61,
   "metadata": {},
   "outputs": [
    {
     "name": "stdout",
     "output_type": "stream",
     "text": [
      "<class 'pandas.core.frame.DataFrame'>\n",
      "RangeIndex: 500 entries, 0 to 499\n",
      "Data columns (total 6 columns):\n",
      "Reason           500 non-null object\n",
      "Gender           500 non-null object\n",
      "Age              500 non-null float64\n",
      "Mobility         500 non-null object\n",
      "Distance         500 non-null float64\n",
      "Participation    500 non-null int64\n",
      "dtypes: float64(2), int64(1), object(3)\n",
      "memory usage: 23.5+ KB\n"
     ]
    }
   ],
   "source": [
    "data.info()"
   ]
  },
  {
   "cell_type": "markdown",
   "metadata": {},
   "source": [
    "######  No. of people who actually joined the program."
   ]
  },
  {
   "cell_type": "code",
   "execution_count": 62,
   "metadata": {
    "scrolled": false
   },
   "outputs": [
    {
     "data": {
      "text/plain": [
       "220"
      ]
     },
     "execution_count": 62,
     "metadata": {},
     "output_type": "execute_result"
    }
   ],
   "source": [
    "data.loc[data['Participation']== 1 , 'Participation'].sum()"
   ]
  },
  {
   "cell_type": "code",
   "execution_count": 63,
   "metadata": {},
   "outputs": [
    {
     "data": {
      "text/html": [
       "<div>\n",
       "<style>\n",
       "    .dataframe thead tr:only-child th {\n",
       "        text-align: right;\n",
       "    }\n",
       "\n",
       "    .dataframe thead th {\n",
       "        text-align: left;\n",
       "    }\n",
       "\n",
       "    .dataframe tbody tr th {\n",
       "        vertical-align: top;\n",
       "    }\n",
       "</style>\n",
       "<table border=\"1\" class=\"dataframe\">\n",
       "  <thead>\n",
       "    <tr style=\"text-align: right;\">\n",
       "      <th></th>\n",
       "      <th>Reason</th>\n",
       "      <th>Gender</th>\n",
       "      <th>Mobility</th>\n",
       "    </tr>\n",
       "  </thead>\n",
       "  <tbody>\n",
       "    <tr>\n",
       "      <th>count</th>\n",
       "      <td>500</td>\n",
       "      <td>500</td>\n",
       "      <td>500</td>\n",
       "    </tr>\n",
       "    <tr>\n",
       "      <th>unique</th>\n",
       "      <td>11</td>\n",
       "      <td>2</td>\n",
       "      <td>2</td>\n",
       "    </tr>\n",
       "    <tr>\n",
       "      <th>top</th>\n",
       "      <td>No reason</td>\n",
       "      <td>M</td>\n",
       "      <td>No car</td>\n",
       "    </tr>\n",
       "    <tr>\n",
       "      <th>freq</th>\n",
       "      <td>344</td>\n",
       "      <td>266</td>\n",
       "      <td>269</td>\n",
       "    </tr>\n",
       "  </tbody>\n",
       "</table>\n",
       "</div>"
      ],
      "text/plain": [
       "           Reason Gender Mobility\n",
       "count         500    500      500\n",
       "unique         11      2        2\n",
       "top     No reason      M   No car\n",
       "freq          344    266      269"
      ]
     },
     "execution_count": 63,
     "metadata": {},
     "output_type": "execute_result"
    }
   ],
   "source": [
    "data.describe(include=['O'])"
   ]
  },
  {
   "cell_type": "markdown",
   "metadata": {},
   "source": [
    "1. No. of males patients are more as compared to females.\n",
    "2. There are 10 unique(excluding no reason) reasons given by patients regarding not joining the program/or having problemm to continue.\n",
    "3. Almost half of patients don't have car.  "
   ]
  },
  {
   "cell_type": "code",
   "execution_count": 64,
   "metadata": {},
   "outputs": [
    {
     "data": {
      "text/html": [
       "<div>\n",
       "<style>\n",
       "    .dataframe thead tr:only-child th {\n",
       "        text-align: right;\n",
       "    }\n",
       "\n",
       "    .dataframe thead th {\n",
       "        text-align: left;\n",
       "    }\n",
       "\n",
       "    .dataframe tbody tr th {\n",
       "        vertical-align: top;\n",
       "    }\n",
       "</style>\n",
       "<table border=\"1\" class=\"dataframe\">\n",
       "  <thead>\n",
       "    <tr style=\"text-align: right;\">\n",
       "      <th></th>\n",
       "      <th>Gender</th>\n",
       "      <th>Participation</th>\n",
       "    </tr>\n",
       "  </thead>\n",
       "  <tbody>\n",
       "    <tr>\n",
       "      <th>0</th>\n",
       "      <td>F</td>\n",
       "      <td>0.461538</td>\n",
       "    </tr>\n",
       "    <tr>\n",
       "      <th>1</th>\n",
       "      <td>M</td>\n",
       "      <td>0.421053</td>\n",
       "    </tr>\n",
       "  </tbody>\n",
       "</table>\n",
       "</div>"
      ],
      "text/plain": [
       "  Gender  Participation\n",
       "0      F       0.461538\n",
       "1      M       0.421053"
      ]
     },
     "execution_count": 64,
     "metadata": {},
     "output_type": "execute_result"
    }
   ],
   "source": [
    "data[['Gender', 'Participation']].groupby(['Gender'], as_index=False).mean().sort_values(by='Participation', ascending=False)"
   ]
  },
  {
   "cell_type": "markdown",
   "metadata": {},
   "source": [
    "- No. of female patients who joined the program is more than the no. of male patients."
   ]
  },
  {
   "cell_type": "code",
   "execution_count": 65,
   "metadata": {},
   "outputs": [
    {
     "data": {
      "text/html": [
       "<div>\n",
       "<style>\n",
       "    .dataframe thead tr:only-child th {\n",
       "        text-align: right;\n",
       "    }\n",
       "\n",
       "    .dataframe thead th {\n",
       "        text-align: left;\n",
       "    }\n",
       "\n",
       "    .dataframe tbody tr th {\n",
       "        vertical-align: top;\n",
       "    }\n",
       "</style>\n",
       "<table border=\"1\" class=\"dataframe\">\n",
       "  <thead>\n",
       "    <tr style=\"text-align: right;\">\n",
       "      <th></th>\n",
       "      <th>Reason</th>\n",
       "      <th>Participation</th>\n",
       "    </tr>\n",
       "  </thead>\n",
       "  <tbody>\n",
       "    <tr>\n",
       "      <th>10</th>\n",
       "      <td>Resumed work</td>\n",
       "      <td>0.500000</td>\n",
       "    </tr>\n",
       "    <tr>\n",
       "      <th>9</th>\n",
       "      <td>Own facilities</td>\n",
       "      <td>0.307692</td>\n",
       "    </tr>\n",
       "    <tr>\n",
       "      <th>8</th>\n",
       "      <td>Other program</td>\n",
       "      <td>0.333333</td>\n",
       "    </tr>\n",
       "    <tr>\n",
       "      <th>7</th>\n",
       "      <td>Other obligations</td>\n",
       "      <td>0.500000</td>\n",
       "    </tr>\n",
       "    <tr>\n",
       "      <th>6</th>\n",
       "      <td>No reason</td>\n",
       "      <td>0.438953</td>\n",
       "    </tr>\n",
       "    <tr>\n",
       "      <th>5</th>\n",
       "      <td>Moved</td>\n",
       "      <td>0.142857</td>\n",
       "    </tr>\n",
       "    <tr>\n",
       "      <th>4</th>\n",
       "      <td>Medical reasons</td>\n",
       "      <td>0.421053</td>\n",
       "    </tr>\n",
       "    <tr>\n",
       "      <th>3</th>\n",
       "      <td>Lost interest</td>\n",
       "      <td>0.714286</td>\n",
       "    </tr>\n",
       "    <tr>\n",
       "      <th>2</th>\n",
       "      <td>Hospital readmission</td>\n",
       "      <td>0.500000</td>\n",
       "    </tr>\n",
       "    <tr>\n",
       "      <th>1</th>\n",
       "      <td>Forgot</td>\n",
       "      <td>0.166667</td>\n",
       "    </tr>\n",
       "    <tr>\n",
       "      <th>0</th>\n",
       "      <td>Disliked therapist</td>\n",
       "      <td>0.285714</td>\n",
       "    </tr>\n",
       "  </tbody>\n",
       "</table>\n",
       "</div>"
      ],
      "text/plain": [
       "                  Reason  Participation\n",
       "10          Resumed work       0.500000\n",
       "9         Own facilities       0.307692\n",
       "8          Other program       0.333333\n",
       "7      Other obligations       0.500000\n",
       "6              No reason       0.438953\n",
       "5                  Moved       0.142857\n",
       "4        Medical reasons       0.421053\n",
       "3          Lost interest       0.714286\n",
       "2   Hospital readmission       0.500000\n",
       "1                 Forgot       0.166667\n",
       "0     Disliked therapist       0.285714"
      ]
     },
     "execution_count": 65,
     "metadata": {},
     "output_type": "execute_result"
    }
   ],
   "source": [
    "data[['Reason', 'Participation']].groupby(['Reason'], as_index=False).mean().sort_values(by='Reason', ascending=False)"
   ]
  },
  {
   "cell_type": "markdown",
   "metadata": {},
   "source": [
    "- People having own facility, or moved, forgot and disliked therapist are ones who mostly didn't participated in the program."
   ]
  },
  {
   "cell_type": "code",
   "execution_count": 66,
   "metadata": {},
   "outputs": [
    {
     "data": {
      "text/html": [
       "<div>\n",
       "<style>\n",
       "    .dataframe thead tr:only-child th {\n",
       "        text-align: right;\n",
       "    }\n",
       "\n",
       "    .dataframe thead th {\n",
       "        text-align: left;\n",
       "    }\n",
       "\n",
       "    .dataframe tbody tr th {\n",
       "        vertical-align: top;\n",
       "    }\n",
       "</style>\n",
       "<table border=\"1\" class=\"dataframe\">\n",
       "  <thead>\n",
       "    <tr style=\"text-align: right;\">\n",
       "      <th></th>\n",
       "      <th>Mobility</th>\n",
       "      <th>Participation</th>\n",
       "    </tr>\n",
       "  </thead>\n",
       "  <tbody>\n",
       "    <tr>\n",
       "      <th>1</th>\n",
       "      <td>No car</td>\n",
       "      <td>0.275093</td>\n",
       "    </tr>\n",
       "    <tr>\n",
       "      <th>0</th>\n",
       "      <td>Car</td>\n",
       "      <td>0.632035</td>\n",
       "    </tr>\n",
       "  </tbody>\n",
       "</table>\n",
       "</div>"
      ],
      "text/plain": [
       "  Mobility  Participation\n",
       "1   No car       0.275093\n",
       "0      Car       0.632035"
      ]
     },
     "execution_count": 66,
     "metadata": {},
     "output_type": "execute_result"
    }
   ],
   "source": [
    "data[['Mobility', 'Participation']].groupby(['Mobility'], as_index=False).mean().sort_values(by='Mobility', ascending=False)"
   ]
  },
  {
   "cell_type": "markdown",
   "metadata": {},
   "source": [
    "- People having car are most likely to participate in program."
   ]
  },
  {
   "cell_type": "code",
   "execution_count": 67,
   "metadata": {},
   "outputs": [
    {
     "data": {
      "text/plain": [
       "<IPython.core.display.Javascript object>"
      ]
     },
     "metadata": {},
     "output_type": "display_data"
    },
    {
     "data": {
      "text/html": [
       "<img src=\"data:image/png;base64,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\" width=\"600\">"
      ],
      "text/plain": [
       "<IPython.core.display.HTML object>"
      ]
     },
     "metadata": {},
     "output_type": "execute_result"
    },
    {
     "data": {
      "text/plain": [
       "<seaborn.axisgrid.FacetGrid at 0x1b3975bb128>"
      ]
     },
     "execution_count": 67,
     "metadata": {},
     "output_type": "execute_result"
    }
   ],
   "source": [
    "### Participation based on age\n",
    "g = sns.FacetGrid(data, col='Participation')\n",
    "g.map(plt.hist, 'Age', bins=18)"
   ]
  },
  {
   "cell_type": "markdown",
   "metadata": {},
   "source": [
    "- **Most of people are in 50-80 age range. **\n",
    "- **People mainly of age > 60 didn't participated in the program**\n",
    "- **People mainly from age 40 to 60 participated in the program.**"
   ]
  },
  {
   "cell_type": "code",
   "execution_count": 68,
   "metadata": {},
   "outputs": [
    {
     "data": {
      "text/plain": [
       "<IPython.core.display.Javascript object>"
      ]
     },
     "metadata": {},
     "output_type": "display_data"
    },
    {
     "data": {
      "text/html": [
       "<img src=\"data:image/png;base64,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\" width=\"600\">"
      ],
      "text/plain": [
       "<IPython.core.display.HTML object>"
      ]
     },
     "metadata": {},
     "output_type": "execute_result"
    },
    {
     "data": {
      "text/plain": [
       "<seaborn.axisgrid.FacetGrid at 0x1b39767b320>"
      ]
     },
     "execution_count": 68,
     "metadata": {},
     "output_type": "execute_result"
    }
   ],
   "source": [
    "g = sns.FacetGrid(data, col='Participation')\n",
    "g.map(plt.hist, 'Distance', bins= 20)"
   ]
  },
  {
   "cell_type": "markdown",
   "metadata": {},
   "source": [
    "**Distance** from histrogram it clear that distance is a measure factor for people to join rehabitliaion programs as distance below 50 - 55km  are most likely to join. thus I will create a new band for it."
   ]
  },
  {
   "cell_type": "markdown",
   "metadata": {
    "collapsed": true
   },
   "source": [
    "- **Most people who didn't participate the program were living at distance of 40 and above**"
   ]
  },
  {
   "cell_type": "markdown",
   "metadata": {
    "collapsed": true
   },
   "source": [
    "- **Most people to participate the program were living at distnce less than 60.**"
   ]
  },
  {
   "cell_type": "markdown",
   "metadata": {},
   "source": [
    "## 3. Steps taken in order to perform the task and optimizing the model."
   ]
  },
  {
   "cell_type": "markdown",
   "metadata": {},
   "source": [
    "##### Add **Gender** and Mobility feature to model training and converting them to numeric values."
   ]
  },
  {
   "cell_type": "code",
   "execution_count": 69,
   "metadata": {},
   "outputs": [
    {
     "data": {
      "text/html": [
       "<div>\n",
       "<style>\n",
       "    .dataframe thead tr:only-child th {\n",
       "        text-align: right;\n",
       "    }\n",
       "\n",
       "    .dataframe thead th {\n",
       "        text-align: left;\n",
       "    }\n",
       "\n",
       "    .dataframe tbody tr th {\n",
       "        vertical-align: top;\n",
       "    }\n",
       "</style>\n",
       "<table border=\"1\" class=\"dataframe\">\n",
       "  <thead>\n",
       "    <tr style=\"text-align: right;\">\n",
       "      <th></th>\n",
       "      <th>Reason</th>\n",
       "      <th>Gender</th>\n",
       "      <th>Age</th>\n",
       "      <th>Mobility</th>\n",
       "      <th>Distance</th>\n",
       "      <th>Participation</th>\n",
       "    </tr>\n",
       "  </thead>\n",
       "  <tbody>\n",
       "    <tr>\n",
       "      <th>0</th>\n",
       "      <td>Hospital readmission</td>\n",
       "      <td>1</td>\n",
       "      <td>61.3</td>\n",
       "      <td>0</td>\n",
       "      <td>68.7</td>\n",
       "      <td>0</td>\n",
       "    </tr>\n",
       "    <tr>\n",
       "      <th>1</th>\n",
       "      <td>Hospital readmission</td>\n",
       "      <td>1</td>\n",
       "      <td>85.8</td>\n",
       "      <td>1</td>\n",
       "      <td>86.3</td>\n",
       "      <td>0</td>\n",
       "    </tr>\n",
       "    <tr>\n",
       "      <th>2</th>\n",
       "      <td>Hospital readmission</td>\n",
       "      <td>0</td>\n",
       "      <td>65.0</td>\n",
       "      <td>0</td>\n",
       "      <td>46.2</td>\n",
       "      <td>1</td>\n",
       "    </tr>\n",
       "    <tr>\n",
       "      <th>3</th>\n",
       "      <td>Hospital readmission</td>\n",
       "      <td>0</td>\n",
       "      <td>72.5</td>\n",
       "      <td>0</td>\n",
       "      <td>39.7</td>\n",
       "      <td>0</td>\n",
       "    </tr>\n",
       "    <tr>\n",
       "      <th>4</th>\n",
       "      <td>Hospital readmission</td>\n",
       "      <td>1</td>\n",
       "      <td>93.0</td>\n",
       "      <td>0</td>\n",
       "      <td>73.3</td>\n",
       "      <td>0</td>\n",
       "    </tr>\n",
       "  </tbody>\n",
       "</table>\n",
       "</div>"
      ],
      "text/plain": [
       "                 Reason  Gender   Age  Mobility  Distance  Participation\n",
       "0  Hospital readmission       1  61.3         0      68.7              0\n",
       "1  Hospital readmission       1  85.8         1      86.3              0\n",
       "2  Hospital readmission       0  65.0         0      46.2              1\n",
       "3  Hospital readmission       0  72.5         0      39.7              0\n",
       "4  Hospital readmission       1  93.0         0      73.3              0"
      ]
     },
     "execution_count": 69,
     "metadata": {},
     "output_type": "execute_result"
    }
   ],
   "source": [
    "data['Gender'].replace(['F','M'],[0,1],inplace=True)\n",
    "#data['Gender'].apply({'M':1, 'F':0}.get) #faster as compared to replace.\n",
    "data['Mobility'].replace(['No car','Car'],[0,1],inplace=True)\n",
    "data.head()"
   ]
  },
  {
   "cell_type": "markdown",
   "metadata": {
    "collapsed": true
   },
   "source": [
    "###### Replacing reasons with numeric values and adding column reason values for model training."
   ]
  },
  {
   "cell_type": "code",
   "execution_count": 70,
   "metadata": {},
   "outputs": [
    {
     "data": {
      "text/html": [
       "<div>\n",
       "<style>\n",
       "    .dataframe thead tr:only-child th {\n",
       "        text-align: right;\n",
       "    }\n",
       "\n",
       "    .dataframe thead th {\n",
       "        text-align: left;\n",
       "    }\n",
       "\n",
       "    .dataframe tbody tr th {\n",
       "        vertical-align: top;\n",
       "    }\n",
       "</style>\n",
       "<table border=\"1\" class=\"dataframe\">\n",
       "  <thead>\n",
       "    <tr style=\"text-align: right;\">\n",
       "      <th></th>\n",
       "      <th>Reason</th>\n",
       "      <th>Gender</th>\n",
       "      <th>Age</th>\n",
       "      <th>Mobility</th>\n",
       "      <th>Distance</th>\n",
       "      <th>Participation</th>\n",
       "    </tr>\n",
       "  </thead>\n",
       "  <tbody>\n",
       "    <tr>\n",
       "      <th>0</th>\n",
       "      <td>1</td>\n",
       "      <td>1</td>\n",
       "      <td>61.3</td>\n",
       "      <td>0</td>\n",
       "      <td>68.7</td>\n",
       "      <td>0</td>\n",
       "    </tr>\n",
       "    <tr>\n",
       "      <th>1</th>\n",
       "      <td>1</td>\n",
       "      <td>1</td>\n",
       "      <td>85.8</td>\n",
       "      <td>1</td>\n",
       "      <td>86.3</td>\n",
       "      <td>0</td>\n",
       "    </tr>\n",
       "    <tr>\n",
       "      <th>2</th>\n",
       "      <td>1</td>\n",
       "      <td>0</td>\n",
       "      <td>65.0</td>\n",
       "      <td>0</td>\n",
       "      <td>46.2</td>\n",
       "      <td>1</td>\n",
       "    </tr>\n",
       "    <tr>\n",
       "      <th>3</th>\n",
       "      <td>1</td>\n",
       "      <td>0</td>\n",
       "      <td>72.5</td>\n",
       "      <td>0</td>\n",
       "      <td>39.7</td>\n",
       "      <td>0</td>\n",
       "    </tr>\n",
       "    <tr>\n",
       "      <th>4</th>\n",
       "      <td>1</td>\n",
       "      <td>1</td>\n",
       "      <td>93.0</td>\n",
       "      <td>0</td>\n",
       "      <td>73.3</td>\n",
       "      <td>0</td>\n",
       "    </tr>\n",
       "  </tbody>\n",
       "</table>\n",
       "</div>"
      ],
      "text/plain": [
       "   Reason  Gender   Age  Mobility  Distance  Participation\n",
       "0       1       1  61.3         0      68.7              0\n",
       "1       1       1  85.8         1      86.3              0\n",
       "2       1       0  65.0         0      46.2              1\n",
       "3       1       0  72.5         0      39.7              0\n",
       "4       1       1  93.0         0      73.3              0"
      ]
     },
     "execution_count": 70,
     "metadata": {},
     "output_type": "execute_result"
    }
   ],
   "source": [
    "data['Reason'].replace(['No reason','Hospital readmission','Other obligations','Resumed work','Medical reasons','Own facilities','Lost interest','Disliked therapist','Forgot','Moved','Other program'],[0,1,2,3,4,5,6,7,8,9,10],inplace=True)\n",
    "data.head()"
   ]
  },
  {
   "cell_type": "code",
   "execution_count": 71,
   "metadata": {},
   "outputs": [
    {
     "name": "stdout",
     "output_type": "stream",
     "text": [
      "     Reason  Gender   Age  Mobility  Distance  Participation\n",
      "0         1       1  61.3         0      68.7              0\n",
      "1         1       1  85.8         1      86.3              0\n",
      "2         1       0  65.0         0      46.2              1\n",
      "3         1       0  72.5         0      39.7              0\n",
      "4         1       1  93.0         0      73.3              0\n",
      "5         1       0  52.0         1      33.7              1\n",
      "6         1       0  42.0         1      25.7              1\n",
      "7         1       1  57.0         1      37.4              1\n",
      "8         1       1  78.3         0      66.1              0\n",
      "9         1       0  78.0         1      60.1              1\n",
      "10        1       1  65.7         0      68.5              0\n",
      "11        1       0  51.0         1      33.3              1\n",
      "12        1       0  75.0         1      55.5              1\n",
      "13        1       0  60.0         1      38.9              1\n",
      "14        1       1  62.4         0      63.1              0\n",
      "15        1       0  80.7         0      45.0              0\n",
      "16        1       0  78.8         1      83.7              0\n",
      "17        1       1  54.0         1      34.7              1\n",
      "18        1       0  70.0         0      50.5              1\n",
      "19        1       0  67.0         1      47.7              1\n",
      "20        1       0  62.3         0      50.2              0\n",
      "21        1       1  64.8         1      22.6              0\n",
      "22        1       0  83.6         1      80.0              0\n",
      "23        1       0  43.0         1      26.9              1\n",
      "24        1       1  73.0         1      53.1              1\n",
      "25        1       1  80.8         0      55.4              0\n",
      "26        1       1  72.6         0      50.0              0\n",
      "27        1       1  75.5         0     105.6              0\n",
      "28        1       1  71.0         0      51.5              1\n",
      "29        1       1  67.6         1      64.4              0\n",
      "..      ...     ...   ...       ...       ...            ...\n",
      "470       0       0  96.3         1      23.8              0\n",
      "471       0       1  49.0         0      32.1              1\n",
      "472       0       1  68.0         1      81.0              0\n",
      "473       0       0  61.0         0      39.5              1\n",
      "474       0       0  80.6         0      82.2              0\n",
      "475       0       0  62.0         1      41.4              1\n",
      "476       0       0  64.0         1      44.2              1\n",
      "477       0       1  55.0         1      34.8              1\n",
      "478       0       1  65.0         1      46.5              1\n",
      "479       0       0  64.6         1      48.3              0\n",
      "480       0       0  63.3         0      60.6              0\n",
      "481       0       0  83.0         0      63.7              1\n",
      "482       0       1  81.7         1      34.8              0\n",
      "483       0       0  71.1         0      54.0              0\n",
      "484       0       0  75.0         1      55.7              1\n",
      "485       0       0  56.0         1      36.3              1\n",
      "486       0       1  83.0         1      63.3              1\n",
      "487       0       1  52.0         1      74.0              0\n",
      "488       0       1  72.7         0      71.1              0\n",
      "489       0       1  49.0         1      31.3              1\n",
      "490       0       0  59.0         1      38.3              1\n",
      "491       0       1  81.0         0      55.2              0\n",
      "492       0       0  43.0         0      26.7              1\n",
      "493       0       0  81.8         0      41.7              0\n",
      "494       0       0  74.4         0      46.8              0\n",
      "495       0       1  75.0         1      55.9              1\n",
      "496       0       1  62.0         1      42.0              1\n",
      "497       0       1  57.0         0      37.5              1\n",
      "498       0       1  88.0         0      24.6              0\n",
      "499       0       1  74.0         1      54.5              1\n",
      "\n",
      "[500 rows x 6 columns]\n"
     ]
    }
   ],
   "source": [
    "print(data)"
   ]
  },
  {
   "cell_type": "code",
   "execution_count": 72,
   "metadata": {},
   "outputs": [
    {
     "data": {
      "text/html": [
       "<div>\n",
       "<style>\n",
       "    .dataframe thead tr:only-child th {\n",
       "        text-align: right;\n",
       "    }\n",
       "\n",
       "    .dataframe thead th {\n",
       "        text-align: left;\n",
       "    }\n",
       "\n",
       "    .dataframe tbody tr th {\n",
       "        vertical-align: top;\n",
       "    }\n",
       "</style>\n",
       "<table border=\"1\" class=\"dataframe\">\n",
       "  <thead>\n",
       "    <tr style=\"text-align: right;\">\n",
       "      <th></th>\n",
       "      <th>Reason</th>\n",
       "      <th>Gender</th>\n",
       "      <th>Age</th>\n",
       "      <th>Mobility</th>\n",
       "      <th>Distance</th>\n",
       "      <th>Participation</th>\n",
       "    </tr>\n",
       "  </thead>\n",
       "  <tbody>\n",
       "    <tr>\n",
       "      <th>count</th>\n",
       "      <td>500.000000</td>\n",
       "      <td>500.000000</td>\n",
       "      <td>500.000000</td>\n",
       "      <td>500.000000</td>\n",
       "      <td>500.000000</td>\n",
       "      <td>500.000000</td>\n",
       "    </tr>\n",
       "    <tr>\n",
       "      <th>mean</th>\n",
       "      <td>1.090000</td>\n",
       "      <td>0.532000</td>\n",
       "      <td>65.915800</td>\n",
       "      <td>0.462000</td>\n",
       "      <td>49.906000</td>\n",
       "      <td>0.440000</td>\n",
       "    </tr>\n",
       "    <tr>\n",
       "      <th>std</th>\n",
       "      <td>2.128606</td>\n",
       "      <td>0.499475</td>\n",
       "      <td>11.758877</td>\n",
       "      <td>0.499053</td>\n",
       "      <td>19.549232</td>\n",
       "      <td>0.496884</td>\n",
       "    </tr>\n",
       "    <tr>\n",
       "      <th>min</th>\n",
       "      <td>0.000000</td>\n",
       "      <td>0.000000</td>\n",
       "      <td>39.000000</td>\n",
       "      <td>0.000000</td>\n",
       "      <td>2.500000</td>\n",
       "      <td>0.000000</td>\n",
       "    </tr>\n",
       "    <tr>\n",
       "      <th>25%</th>\n",
       "      <td>0.000000</td>\n",
       "      <td>0.000000</td>\n",
       "      <td>57.600000</td>\n",
       "      <td>0.000000</td>\n",
       "      <td>34.800000</td>\n",
       "      <td>0.000000</td>\n",
       "    </tr>\n",
       "    <tr>\n",
       "      <th>50%</th>\n",
       "      <td>0.000000</td>\n",
       "      <td>1.000000</td>\n",
       "      <td>66.000000</td>\n",
       "      <td>0.000000</td>\n",
       "      <td>48.000000</td>\n",
       "      <td>0.000000</td>\n",
       "    </tr>\n",
       "    <tr>\n",
       "      <th>75%</th>\n",
       "      <td>1.000000</td>\n",
       "      <td>1.000000</td>\n",
       "      <td>74.725000</td>\n",
       "      <td>1.000000</td>\n",
       "      <td>63.325000</td>\n",
       "      <td>1.000000</td>\n",
       "    </tr>\n",
       "    <tr>\n",
       "      <th>max</th>\n",
       "      <td>10.000000</td>\n",
       "      <td>1.000000</td>\n",
       "      <td>96.300000</td>\n",
       "      <td>1.000000</td>\n",
       "      <td>105.900000</td>\n",
       "      <td>1.000000</td>\n",
       "    </tr>\n",
       "  </tbody>\n",
       "</table>\n",
       "</div>"
      ],
      "text/plain": [
       "           Reason      Gender         Age    Mobility    Distance  \\\n",
       "count  500.000000  500.000000  500.000000  500.000000  500.000000   \n",
       "mean     1.090000    0.532000   65.915800    0.462000   49.906000   \n",
       "std      2.128606    0.499475   11.758877    0.499053   19.549232   \n",
       "min      0.000000    0.000000   39.000000    0.000000    2.500000   \n",
       "25%      0.000000    0.000000   57.600000    0.000000   34.800000   \n",
       "50%      0.000000    1.000000   66.000000    0.000000   48.000000   \n",
       "75%      1.000000    1.000000   74.725000    1.000000   63.325000   \n",
       "max     10.000000    1.000000   96.300000    1.000000  105.900000   \n",
       "\n",
       "       Participation  \n",
       "count     500.000000  \n",
       "mean        0.440000  \n",
       "std         0.496884  \n",
       "min         0.000000  \n",
       "25%         0.000000  \n",
       "50%         0.000000  \n",
       "75%         1.000000  \n",
       "max         1.000000  "
      ]
     },
     "execution_count": 72,
     "metadata": {},
     "output_type": "execute_result"
    }
   ],
   "source": [
    "data.describe()"
   ]
  },
  {
   "cell_type": "markdown",
   "metadata": {},
   "source": [
    "###### Nomalizing and scaling the data using Min, Max values"
   ]
  },
  {
   "cell_type": "markdown",
   "metadata": {},
   "source": [
    "- **Scaling** : Reason, age and distance"
   ]
  },
  {
   "cell_type": "code",
   "execution_count": 73,
   "metadata": {
    "collapsed": true
   },
   "outputs": [],
   "source": [
    "#sklearn.preprocessing.scale(X)\n",
    "#sklearn.preprocessing.normalize(X, axis=0)\n",
    "#sklearn.preprocessing.MinMaxScaler().fit_transform(X)try other too.\n",
    "#try also dfTest[['A','B']] = dfTest[['A','B']].apply(lambda x: MinMaxScaler().fit_transform(x))\n",
    "\n",
    "scaler = MinMaxScaler()\n",
    "data[['Reason','Age','Distance']] = scaler.fit_transform((data[['Reason','Age','Distance']]))"
   ]
  },
  {
   "cell_type": "code",
   "execution_count": 74,
   "metadata": {},
   "outputs": [
    {
     "data": {
      "text/html": [
       "<div>\n",
       "<style>\n",
       "    .dataframe thead tr:only-child th {\n",
       "        text-align: right;\n",
       "    }\n",
       "\n",
       "    .dataframe thead th {\n",
       "        text-align: left;\n",
       "    }\n",
       "\n",
       "    .dataframe tbody tr th {\n",
       "        vertical-align: top;\n",
       "    }\n",
       "</style>\n",
       "<table border=\"1\" class=\"dataframe\">\n",
       "  <thead>\n",
       "    <tr style=\"text-align: right;\">\n",
       "      <th></th>\n",
       "      <th>Reason</th>\n",
       "      <th>Gender</th>\n",
       "      <th>Age</th>\n",
       "      <th>Mobility</th>\n",
       "      <th>Distance</th>\n",
       "      <th>Participation</th>\n",
       "    </tr>\n",
       "  </thead>\n",
       "  <tbody>\n",
       "    <tr>\n",
       "      <th>0</th>\n",
       "      <td>0.1</td>\n",
       "      <td>1</td>\n",
       "      <td>0.389180</td>\n",
       "      <td>0</td>\n",
       "      <td>0.640232</td>\n",
       "      <td>0</td>\n",
       "    </tr>\n",
       "    <tr>\n",
       "      <th>1</th>\n",
       "      <td>0.1</td>\n",
       "      <td>1</td>\n",
       "      <td>0.816754</td>\n",
       "      <td>1</td>\n",
       "      <td>0.810445</td>\n",
       "      <td>0</td>\n",
       "    </tr>\n",
       "    <tr>\n",
       "      <th>2</th>\n",
       "      <td>0.1</td>\n",
       "      <td>0</td>\n",
       "      <td>0.453752</td>\n",
       "      <td>0</td>\n",
       "      <td>0.422631</td>\n",
       "      <td>1</td>\n",
       "    </tr>\n",
       "    <tr>\n",
       "      <th>3</th>\n",
       "      <td>0.1</td>\n",
       "      <td>0</td>\n",
       "      <td>0.584642</td>\n",
       "      <td>0</td>\n",
       "      <td>0.359768</td>\n",
       "      <td>0</td>\n",
       "    </tr>\n",
       "    <tr>\n",
       "      <th>4</th>\n",
       "      <td>0.1</td>\n",
       "      <td>1</td>\n",
       "      <td>0.942408</td>\n",
       "      <td>0</td>\n",
       "      <td>0.684720</td>\n",
       "      <td>0</td>\n",
       "    </tr>\n",
       "  </tbody>\n",
       "</table>\n",
       "</div>"
      ],
      "text/plain": [
       "   Reason  Gender       Age  Mobility  Distance  Participation\n",
       "0     0.1       1  0.389180         0  0.640232              0\n",
       "1     0.1       1  0.816754         1  0.810445              0\n",
       "2     0.1       0  0.453752         0  0.422631              1\n",
       "3     0.1       0  0.584642         0  0.359768              0\n",
       "4     0.1       1  0.942408         0  0.684720              0"
      ]
     },
     "execution_count": 74,
     "metadata": {},
     "output_type": "execute_result"
    }
   ],
   "source": [
    "data.head()"
   ]
  },
  {
   "cell_type": "code",
   "execution_count": 75,
   "metadata": {},
   "outputs": [
    {
     "data": {
      "text/html": [
       "<div>\n",
       "<style>\n",
       "    .dataframe thead tr:only-child th {\n",
       "        text-align: right;\n",
       "    }\n",
       "\n",
       "    .dataframe thead th {\n",
       "        text-align: left;\n",
       "    }\n",
       "\n",
       "    .dataframe tbody tr th {\n",
       "        vertical-align: top;\n",
       "    }\n",
       "</style>\n",
       "<table border=\"1\" class=\"dataframe\">\n",
       "  <thead>\n",
       "    <tr style=\"text-align: right;\">\n",
       "      <th></th>\n",
       "      <th>Reason</th>\n",
       "      <th>Gender</th>\n",
       "      <th>Age</th>\n",
       "      <th>Mobility</th>\n",
       "      <th>Distance</th>\n",
       "      <th>Participation</th>\n",
       "    </tr>\n",
       "  </thead>\n",
       "  <tbody>\n",
       "    <tr>\n",
       "      <th>count</th>\n",
       "      <td>500.000000</td>\n",
       "      <td>500.000000</td>\n",
       "      <td>500.000000</td>\n",
       "      <td>500.000000</td>\n",
       "      <td>500.000000</td>\n",
       "      <td>500.000000</td>\n",
       "    </tr>\n",
       "    <tr>\n",
       "      <th>mean</th>\n",
       "      <td>0.109000</td>\n",
       "      <td>0.532000</td>\n",
       "      <td>0.469735</td>\n",
       "      <td>0.462000</td>\n",
       "      <td>0.458472</td>\n",
       "      <td>0.440000</td>\n",
       "    </tr>\n",
       "    <tr>\n",
       "      <th>std</th>\n",
       "      <td>0.212861</td>\n",
       "      <td>0.499475</td>\n",
       "      <td>0.205216</td>\n",
       "      <td>0.499053</td>\n",
       "      <td>0.189064</td>\n",
       "      <td>0.496884</td>\n",
       "    </tr>\n",
       "    <tr>\n",
       "      <th>min</th>\n",
       "      <td>0.000000</td>\n",
       "      <td>0.000000</td>\n",
       "      <td>0.000000</td>\n",
       "      <td>0.000000</td>\n",
       "      <td>0.000000</td>\n",
       "      <td>0.000000</td>\n",
       "    </tr>\n",
       "    <tr>\n",
       "      <th>25%</th>\n",
       "      <td>0.000000</td>\n",
       "      <td>0.000000</td>\n",
       "      <td>0.324607</td>\n",
       "      <td>0.000000</td>\n",
       "      <td>0.312379</td>\n",
       "      <td>0.000000</td>\n",
       "    </tr>\n",
       "    <tr>\n",
       "      <th>50%</th>\n",
       "      <td>0.000000</td>\n",
       "      <td>1.000000</td>\n",
       "      <td>0.471204</td>\n",
       "      <td>0.000000</td>\n",
       "      <td>0.440039</td>\n",
       "      <td>0.000000</td>\n",
       "    </tr>\n",
       "    <tr>\n",
       "      <th>75%</th>\n",
       "      <td>0.100000</td>\n",
       "      <td>1.000000</td>\n",
       "      <td>0.623473</td>\n",
       "      <td>1.000000</td>\n",
       "      <td>0.588250</td>\n",
       "      <td>1.000000</td>\n",
       "    </tr>\n",
       "    <tr>\n",
       "      <th>max</th>\n",
       "      <td>1.000000</td>\n",
       "      <td>1.000000</td>\n",
       "      <td>1.000000</td>\n",
       "      <td>1.000000</td>\n",
       "      <td>1.000000</td>\n",
       "      <td>1.000000</td>\n",
       "    </tr>\n",
       "  </tbody>\n",
       "</table>\n",
       "</div>"
      ],
      "text/plain": [
       "           Reason      Gender         Age    Mobility    Distance  \\\n",
       "count  500.000000  500.000000  500.000000  500.000000  500.000000   \n",
       "mean     0.109000    0.532000    0.469735    0.462000    0.458472   \n",
       "std      0.212861    0.499475    0.205216    0.499053    0.189064   \n",
       "min      0.000000    0.000000    0.000000    0.000000    0.000000   \n",
       "25%      0.000000    0.000000    0.324607    0.000000    0.312379   \n",
       "50%      0.000000    1.000000    0.471204    0.000000    0.440039   \n",
       "75%      0.100000    1.000000    0.623473    1.000000    0.588250   \n",
       "max      1.000000    1.000000    1.000000    1.000000    1.000000   \n",
       "\n",
       "       Participation  \n",
       "count     500.000000  \n",
       "mean        0.440000  \n",
       "std         0.496884  \n",
       "min         0.000000  \n",
       "25%         0.000000  \n",
       "50%         0.000000  \n",
       "75%         1.000000  \n",
       "max         1.000000  "
      ]
     },
     "execution_count": 75,
     "metadata": {},
     "output_type": "execute_result"
    }
   ],
   "source": [
    "data.describe()"
   ]
  },
  {
   "cell_type": "markdown",
   "metadata": {},
   "source": [
    "##### Distributing data     train: test: cross_validation = 60:20:20"
   ]
  },
  {
   "cell_type": "code",
   "execution_count": 76,
   "metadata": {
    "collapsed": true
   },
   "outputs": [],
   "source": [
    "import sklearn\n",
    "from sklearn.utils import shuffle  \n",
    "data = shuffle(data)              #Shuffling values of data\n",
    "\n",
    "train_x, test_x = sklearn.cross_validation.train_test_split(data, train_size = 0.8, random_state = 1)"
   ]
  },
  {
   "cell_type": "code",
   "execution_count": 77,
   "metadata": {
    "collapsed": true
   },
   "outputs": [],
   "source": [
    "train_x, val_x = sklearn.cross_validation.train_test_split(train_x, train_size = 0.75, random_state = 1)"
   ]
  },
  {
   "cell_type": "code",
   "execution_count": 25,
   "metadata": {},
   "outputs": [
    {
     "data": {
      "text/html": [
       "<div>\n",
       "<style>\n",
       "    .dataframe thead tr:only-child th {\n",
       "        text-align: right;\n",
       "    }\n",
       "\n",
       "    .dataframe thead th {\n",
       "        text-align: left;\n",
       "    }\n",
       "\n",
       "    .dataframe tbody tr th {\n",
       "        vertical-align: top;\n",
       "    }\n",
       "</style>\n",
       "<table border=\"1\" class=\"dataframe\">\n",
       "  <thead>\n",
       "    <tr style=\"text-align: right;\">\n",
       "      <th></th>\n",
       "      <th>Reason</th>\n",
       "      <th>Gender</th>\n",
       "      <th>Age</th>\n",
       "      <th>Mobility</th>\n",
       "      <th>Distance</th>\n",
       "      <th>Participation</th>\n",
       "    </tr>\n",
       "  </thead>\n",
       "  <tbody>\n",
       "    <tr>\n",
       "      <th>429</th>\n",
       "      <td>0.0</td>\n",
       "      <td>1</td>\n",
       "      <td>0.291449</td>\n",
       "      <td>0</td>\n",
       "      <td>0.376209</td>\n",
       "      <td>0</td>\n",
       "    </tr>\n",
       "    <tr>\n",
       "      <th>48</th>\n",
       "      <td>0.2</td>\n",
       "      <td>1</td>\n",
       "      <td>0.474695</td>\n",
       "      <td>1</td>\n",
       "      <td>0.588975</td>\n",
       "      <td>0</td>\n",
       "    </tr>\n",
       "    <tr>\n",
       "      <th>139</th>\n",
       "      <td>0.8</td>\n",
       "      <td>1</td>\n",
       "      <td>0.418848</td>\n",
       "      <td>0</td>\n",
       "      <td>0.394584</td>\n",
       "      <td>1</td>\n",
       "    </tr>\n",
       "    <tr>\n",
       "      <th>337</th>\n",
       "      <td>0.0</td>\n",
       "      <td>1</td>\n",
       "      <td>0.565445</td>\n",
       "      <td>0</td>\n",
       "      <td>0.415861</td>\n",
       "      <td>0</td>\n",
       "    </tr>\n",
       "    <tr>\n",
       "      <th>154</th>\n",
       "      <td>0.9</td>\n",
       "      <td>0</td>\n",
       "      <td>0.499127</td>\n",
       "      <td>0</td>\n",
       "      <td>0.297872</td>\n",
       "      <td>0</td>\n",
       "    </tr>\n",
       "  </tbody>\n",
       "</table>\n",
       "</div>"
      ],
      "text/plain": [
       "     Reason  Gender       Age  Mobility  Distance  Participation\n",
       "429     0.0       1  0.291449         0  0.376209              0\n",
       "48      0.2       1  0.474695         1  0.588975              0\n",
       "139     0.8       1  0.418848         0  0.394584              1\n",
       "337     0.0       1  0.565445         0  0.415861              0\n",
       "154     0.9       0  0.499127         0  0.297872              0"
      ]
     },
     "execution_count": 25,
     "metadata": {},
     "output_type": "execute_result"
    }
   ],
   "source": [
    "train_x.head()"
   ]
  },
  {
   "cell_type": "code",
   "execution_count": 78,
   "metadata": {},
   "outputs": [
    {
     "data": {
      "text/html": [
       "<div>\n",
       "<style>\n",
       "    .dataframe thead tr:only-child th {\n",
       "        text-align: right;\n",
       "    }\n",
       "\n",
       "    .dataframe thead th {\n",
       "        text-align: left;\n",
       "    }\n",
       "\n",
       "    .dataframe tbody tr th {\n",
       "        vertical-align: top;\n",
       "    }\n",
       "</style>\n",
       "<table border=\"1\" class=\"dataframe\">\n",
       "  <thead>\n",
       "    <tr style=\"text-align: right;\">\n",
       "      <th></th>\n",
       "      <th>Reason</th>\n",
       "      <th>Gender</th>\n",
       "      <th>Age</th>\n",
       "      <th>Mobility</th>\n",
       "      <th>Distance</th>\n",
       "      <th>Participation</th>\n",
       "    </tr>\n",
       "  </thead>\n",
       "  <tbody>\n",
       "    <tr>\n",
       "      <th>52</th>\n",
       "      <td>0.2</td>\n",
       "      <td>0</td>\n",
       "      <td>0.769634</td>\n",
       "      <td>1</td>\n",
       "      <td>0.715667</td>\n",
       "      <td>0</td>\n",
       "    </tr>\n",
       "    <tr>\n",
       "      <th>491</th>\n",
       "      <td>0.0</td>\n",
       "      <td>1</td>\n",
       "      <td>0.732984</td>\n",
       "      <td>0</td>\n",
       "      <td>0.509671</td>\n",
       "      <td>0</td>\n",
       "    </tr>\n",
       "    <tr>\n",
       "      <th>497</th>\n",
       "      <td>0.0</td>\n",
       "      <td>1</td>\n",
       "      <td>0.314136</td>\n",
       "      <td>0</td>\n",
       "      <td>0.338491</td>\n",
       "      <td>1</td>\n",
       "    </tr>\n",
       "    <tr>\n",
       "      <th>398</th>\n",
       "      <td>0.0</td>\n",
       "      <td>1</td>\n",
       "      <td>0.668412</td>\n",
       "      <td>0</td>\n",
       "      <td>0.375242</td>\n",
       "      <td>0</td>\n",
       "    </tr>\n",
       "    <tr>\n",
       "      <th>60</th>\n",
       "      <td>0.2</td>\n",
       "      <td>1</td>\n",
       "      <td>0.424084</td>\n",
       "      <td>0</td>\n",
       "      <td>0.390716</td>\n",
       "      <td>0</td>\n",
       "    </tr>\n",
       "  </tbody>\n",
       "</table>\n",
       "</div>"
      ],
      "text/plain": [
       "     Reason  Gender       Age  Mobility  Distance  Participation\n",
       "52      0.2       0  0.769634         1  0.715667              0\n",
       "491     0.0       1  0.732984         0  0.509671              0\n",
       "497     0.0       1  0.314136         0  0.338491              1\n",
       "398     0.0       1  0.668412         0  0.375242              0\n",
       "60      0.2       1  0.424084         0  0.390716              0"
      ]
     },
     "execution_count": 78,
     "metadata": {},
     "output_type": "execute_result"
    }
   ],
   "source": [
    "test_x.head()"
   ]
  },
  {
   "cell_type": "code",
   "execution_count": 79,
   "metadata": {},
   "outputs": [
    {
     "data": {
      "text/html": [
       "<div>\n",
       "<style>\n",
       "    .dataframe thead tr:only-child th {\n",
       "        text-align: right;\n",
       "    }\n",
       "\n",
       "    .dataframe thead th {\n",
       "        text-align: left;\n",
       "    }\n",
       "\n",
       "    .dataframe tbody tr th {\n",
       "        vertical-align: top;\n",
       "    }\n",
       "</style>\n",
       "<table border=\"1\" class=\"dataframe\">\n",
       "  <thead>\n",
       "    <tr style=\"text-align: right;\">\n",
       "      <th></th>\n",
       "      <th>Reason</th>\n",
       "      <th>Gender</th>\n",
       "      <th>Age</th>\n",
       "      <th>Mobility</th>\n",
       "      <th>Distance</th>\n",
       "      <th>Participation</th>\n",
       "    </tr>\n",
       "  </thead>\n",
       "  <tbody>\n",
       "    <tr>\n",
       "      <th>168</th>\n",
       "      <td>0.0</td>\n",
       "      <td>0</td>\n",
       "      <td>0.385689</td>\n",
       "      <td>0</td>\n",
       "      <td>0.475822</td>\n",
       "      <td>0</td>\n",
       "    </tr>\n",
       "    <tr>\n",
       "      <th>204</th>\n",
       "      <td>0.0</td>\n",
       "      <td>0</td>\n",
       "      <td>0.314136</td>\n",
       "      <td>1</td>\n",
       "      <td>0.207930</td>\n",
       "      <td>1</td>\n",
       "    </tr>\n",
       "    <tr>\n",
       "      <th>247</th>\n",
       "      <td>0.0</td>\n",
       "      <td>1</td>\n",
       "      <td>0.282723</td>\n",
       "      <td>1</td>\n",
       "      <td>0.646035</td>\n",
       "      <td>0</td>\n",
       "    </tr>\n",
       "    <tr>\n",
       "      <th>153</th>\n",
       "      <td>0.7</td>\n",
       "      <td>0</td>\n",
       "      <td>0.560209</td>\n",
       "      <td>1</td>\n",
       "      <td>0.804642</td>\n",
       "      <td>0</td>\n",
       "    </tr>\n",
       "    <tr>\n",
       "      <th>69</th>\n",
       "      <td>0.3</td>\n",
       "      <td>1</td>\n",
       "      <td>0.343805</td>\n",
       "      <td>0</td>\n",
       "      <td>0.681818</td>\n",
       "      <td>0</td>\n",
       "    </tr>\n",
       "  </tbody>\n",
       "</table>\n",
       "</div>"
      ],
      "text/plain": [
       "     Reason  Gender       Age  Mobility  Distance  Participation\n",
       "168     0.0       0  0.385689         0  0.475822              0\n",
       "204     0.0       0  0.314136         1  0.207930              1\n",
       "247     0.0       1  0.282723         1  0.646035              0\n",
       "153     0.7       0  0.560209         1  0.804642              0\n",
       "69      0.3       1  0.343805         0  0.681818              0"
      ]
     },
     "execution_count": 79,
     "metadata": {},
     "output_type": "execute_result"
    }
   ],
   "source": [
    "val_x.head()"
   ]
  },
  {
   "cell_type": "code",
   "execution_count": 80,
   "metadata": {},
   "outputs": [
    {
     "data": {
      "text/plain": [
       "((300, 6), (100, 6), (100, 6))"
      ]
     },
     "execution_count": 80,
     "metadata": {},
     "output_type": "execute_result"
    }
   ],
   "source": [
    "train_x.shape, test_x.shape, val_x.shape"
   ]
  },
  {
   "cell_type": "code",
   "execution_count": 81,
   "metadata": {},
   "outputs": [
    {
     "data": {
      "text/plain": [
       "(300,)"
      ]
     },
     "execution_count": 81,
     "metadata": {},
     "output_type": "execute_result"
    }
   ],
   "source": [
    "train_y = train_x['Participation']\n",
    "train_y.shape"
   ]
  },
  {
   "cell_type": "code",
   "execution_count": 82,
   "metadata": {},
   "outputs": [
    {
     "data": {
      "text/plain": [
       "(100,)"
      ]
     },
     "execution_count": 82,
     "metadata": {},
     "output_type": "execute_result"
    }
   ],
   "source": [
    "test_y = test_x['Participation']\n",
    "test_y.shape"
   ]
  },
  {
   "cell_type": "code",
   "execution_count": 83,
   "metadata": {},
   "outputs": [
    {
     "data": {
      "text/plain": [
       "(100,)"
      ]
     },
     "execution_count": 83,
     "metadata": {},
     "output_type": "execute_result"
    }
   ],
   "source": [
    "val_y = val_x['Participation']\n",
    "val_y.shape"
   ]
  },
  {
   "cell_type": "markdown",
   "metadata": {
    "collapsed": true
   },
   "source": [
    "### Using Logistic regression model to predict the values."
   ]
  },
  {
   "cell_type": "code",
   "execution_count": 92,
   "metadata": {},
   "outputs": [
    {
     "name": "stdout",
     "output_type": "stream",
     "text": [
      "Accuracy of Logistic regression classifier on training set:  100.0\n",
      "Accuracy of Logistic regression classifier on test set:  100.0\n",
      "Accuracy of Logistic regression classifier on cross validation set:  100.0\n"
     ]
    }
   ],
   "source": [
    "# clf = LogisticRegression.fit(train_x, train_y)\n",
    "# from sklearn.linear_model import LogisticRegression \n",
    "lr = LogisticRegression(C = 100)\n",
    "lr.fit(train_x, train_y)\n",
    "pred_yv= lr.predict(val_x)\n",
    "pred_yt= lr.predict(test_x)\n",
    "\n",
    "\n",
    "# Calculating accuracy results\n",
    "\n",
    "acc_log = round(lr.score(train_x, train_y) * 100, 2)\n",
    "print(\"Accuracy of Logistic regression classifier on training set: \",acc_log)\n",
    "test_log = round(lr.score(test_x, pred_yt) * 100, 2)\n",
    "print(\"Accuracy of Logistic regression classifier on test set: \",test_log)\n",
    "val_log = round(lr.score(val_x, pred_yv) * 100, 2)\n",
    "print(\"Accuracy of Logistic regression classifier on cross validation set: \",val_log)"
   ]
  },
  {
   "cell_type": "markdown",
   "metadata": {},
   "source": [
    "## Applying Support Vector Machine Algorithm\n",
    "\n",
    "The model generates a confidence score which is higher than Logistics Regression model."
   ]
  },
  {
   "cell_type": "code",
   "execution_count": 98,
   "metadata": {},
   "outputs": [
    {
     "name": "stdout",
     "output_type": "stream",
     "text": [
      "Accuracy of Support Vector Machine classifier on training set:  100.0\n",
      "Accuracy of Support Vector Machine classifier on test set:  100.0\n",
      "Accuracy of Support Vector Machine classifier on cross validation set:  100.0\n"
     ]
    }
   ],
   "source": [
    "# clf = LogisticRegression.fit(train_x, train_y)\n",
    "# from sklearn.linear_model import LogisticRegression \n",
    "svc = SVC()\n",
    "svc.fit(train_x, train_y)\n",
    "pred_yv = svc.predict(val_x)\n",
    "pred_yt = svc.predict(test_x)\n",
    "\n",
    "\n",
    "# Calculating accuracy results\n",
    "\n",
    "acc_log = round(svc.score(train_x, train_y) * 100, 2)\n",
    "print(\"Accuracy of Support Vector Machine classifier on training set: \",acc_log)\n",
    "test_log = round(svc.score(test_x, pred_yt) * 100, 2)\n",
    "print(\"Accuracy of Support Vector Machine classifier on test set: \",test_log)\n",
    "val_log = round(svc.score(val_x, pred_yv) * 100, 2)\n",
    "print(\"Accuracy of Support Vector Machine classifier on cross validation set: \",val_log)"
   ]
  },
  {
   "cell_type": "markdown",
   "metadata": {
    "collapsed": true
   },
   "source": [
    "## Applying K-Nearest Neighbors algorithm\n",
    "KNN confidence score is better than Logistics Regression but worse than SVM."
   ]
  },
  {
   "cell_type": "code",
   "execution_count": 103,
   "metadata": {},
   "outputs": [
    {
     "name": "stdout",
     "output_type": "stream",
     "text": [
      "Accuracy of Support Vector Machine classifier on training set:  100.0\n",
      "Accuracy of Support Vector Machine classifier on test set:  100.0\n",
      "Accuracy of Support Vector Machine classifier on cross validation set:  100.0\n"
     ]
    }
   ],
   "source": [
    "knn = KNeighborsClassifier(n_neighbors = 3)\n",
    "knn.fit(train_x, train_y)\n",
    "pred_yv = knn.predict(val_x)\n",
    "pred_yt = knn.predict(test_x)\n",
    "\n",
    "# Calculating accuracy results\n",
    "\n",
    "acc_log = round(knn.score(train_x, train_y) * 100, 2)\n",
    "print(\"Accuracy of Support Vector Machine classifier on training set: \",acc_log)\n",
    "test_log = round(knn.score(test_x, pred_yt) * 100, 2)\n",
    "print(\"Accuracy of Support Vector Machine classifier on test set: \",test_log)\n",
    "val_log = round(knn.score(val_x, pred_yv) * 100, 2)\n",
    "print(\"Accuracy of Support Vector Machine classifier on cross validation set: \",val_log)"
   ]
  },
  {
   "cell_type": "markdown",
   "metadata": {
    "collapsed": true
   },
   "source": [
    "## Applying naive Bayes Classifier\n"
   ]
  },
  {
   "cell_type": "code",
   "execution_count": 106,
   "metadata": {},
   "outputs": [
    {
     "name": "stdout",
     "output_type": "stream",
     "text": [
      "Accuracy of Support Vector Machine classifier on training set:  100.0\n",
      "Accuracy of Support Vector Machine classifier on test set:  100.0\n",
      "Accuracy of Support Vector Machine classifier on cross validation set:  100.0\n"
     ]
    }
   ],
   "source": [
    "gaussian = GaussianNB()\n",
    "gaussian.fit(train_x, train_y)\n",
    "pred_yv = gaussian.predict(val_x)\n",
    "pred_yt = gaussian.predict(test_x)\n",
    "\n",
    "# Calculating accuracy results\n",
    "\n",
    "acc_gaussian = round(gaussian.score(train_x, train_y) * 100, 2)\n",
    "print(\"Accuracy of Support Vector Machine classifier on training set: \",acc_gaussian)\n",
    "test_gaussian = round(gaussian.score(test_x, pred_yt) * 100, 2)\n",
    "print(\"Accuracy of Support Vector Machine classifier on test set: \",test_gaussian)\n",
    "val_gaussian = round(gaussian.score(val_x, pred_yv) * 100, 2)\n",
    "print(\"Accuracy of Support Vector Machine classifier on cross validation set: \",val_gaussian)"
   ]
  },
  {
   "cell_type": "markdown",
   "metadata": {
    "collapsed": true
   },
   "source": [
    "## Applying Random Forest Algorithm\n"
   ]
  },
  {
   "cell_type": "code",
   "execution_count": 107,
   "metadata": {},
   "outputs": [
    {
     "name": "stdout",
     "output_type": "stream",
     "text": [
      "Accuracy of Support Vector Machine classifier on training set:  100.0\n",
      "Accuracy of Support Vector Machine classifier on test set:  100.0\n",
      "Accuracy of Support Vector Machine classifier on cross validation set:  100.0\n"
     ]
    }
   ],
   "source": [
    "random_forest = RandomForestClassifier(n_estimators = 100)\n",
    "random_forest.fit(train_x, train_y)\n",
    "pred_yv = random_forest.predict(val_x)\n",
    "pred_yt = random_forest.predict(test_x)\n",
    "\n",
    "# Calculating accuracy results\n",
    "\n",
    "acc_random_forest = round(random_forest.score(train_x, train_y) * 100, 2)\n",
    "print(\"Accuracy of Support Vector Machine classifier on training set: \",acc_random_forest)\n",
    "test_random_forest = round(random_forest.score(test_x, pred_yt) * 100, 2)\n",
    "print(\"Accuracy of Support Vector Machine classifier on test set: \",test_random_forest)\n",
    "val_random_forest = round(random_forest.score(val_x, pred_yv) * 100, 2)\n",
    "print(\"Accuracy of Support Vector Machine classifier on cross validation set: \",val_random_forest)"
   ]
  },
  {
   "cell_type": "markdown",
   "metadata": {
    "collapsed": true
   },
   "source": [
    "Applying Decision tree"
   ]
  },
  {
   "cell_type": "code",
   "execution_count": null,
   "metadata": {
    "collapsed": true
   },
   "outputs": [],
   "source": [
    ""
   ]
  },
  {
   "cell_type": "code",
   "execution_count": null,
   "metadata": {
    "collapsed": true
   },
   "outputs": [],
   "source": [
    ""
   ]
  },
  {
   "cell_type": "markdown",
   "metadata": {
    "collapsed": true
   },
   "source": [
    "## 4. Interpretating the output"
   ]
  },
  {
   "cell_type": "markdown",
   "metadata": {},
   "source": [
    "- From the results it is clear that the logistic regression classifier gives optimum for given data set."
   ]
  },
  {
   "cell_type": "markdown",
   "metadata": {},
   "source": [
    "## 5. Description of performance and efficiency."
   ]
  },
  {
   "cell_type": "markdown",
   "metadata": {},
   "source": [
    "Obtaining the performance scores for both test set and cross validation set.\n",
    "1. F1 score\n",
    "2. Precision score\n",
    "3. Recall score"
   ]
  },
  {
   "cell_type": "code",
   "execution_count": 33,
   "metadata": {
    "collapsed": true
   },
   "outputs": [],
   "source": [
    "from sklearn.metrics import accuracy_score, f1_score, precision_score, recall_score, classification_report\n",
    "#Importing score methods"
   ]
  },
  {
   "cell_type": "markdown",
   "metadata": {},
   "source": [
    "###### Performance scores for test set"
   ]
  },
  {
   "cell_type": "code",
   "execution_count": 34,
   "metadata": {},
   "outputs": [
    {
     "name": "stdout",
     "output_type": "stream",
     "text": [
      "precision: [ 1.  1.]\n",
      "recall: [ 1.  1.]\n",
      "fscore: [ 1.  1.]\n",
      "support: [57 43]\n"
     ]
    }
   ],
   "source": [
    "from sklearn.metrics import precision_recall_fscore_support as score\n",
    "\n",
    "\n",
    "\n",
    "precision, recall, fscore, support = score(test_y, pred_yt)\n",
    "\n",
    "print('precision: {}'.format(precision))\n",
    "print('recall: {}'.format(recall))\n",
    "print('fscore: {}'.format(fscore))\n",
    "print('support: {}'.format(support))"
   ]
  },
  {
   "cell_type": "markdown",
   "metadata": {},
   "source": [
    "###### Performance scores for cross validation set"
   ]
  },
  {
   "cell_type": "code",
   "execution_count": 35,
   "metadata": {},
   "outputs": [
    {
     "name": "stdout",
     "output_type": "stream",
     "text": [
      "precision: [ 1.  1.]\n",
      "recall: [ 1.  1.]\n",
      "fscore: [ 1.  1.]\n",
      "support: [62 38]\n"
     ]
    }
   ],
   "source": [
    "precision, recall, fscore, support = score(val_y, pred_yv)\n",
    "\n",
    "print('precision: {}'.format(precision))\n",
    "print('recall: {}'.format(recall))\n",
    "print('fscore: {}'.format(fscore))\n",
    "print('support: {}'.format(support))"
   ]
  },
  {
   "cell_type": "markdown",
   "metadata": {},
   "source": [
    "###### Classification report of test set"
   ]
  },
  {
   "cell_type": "code",
   "execution_count": 36,
   "metadata": {},
   "outputs": [
    {
     "name": "stdout",
     "output_type": "stream",
     "text": [
      "             precision    recall  f1-score   support\n",
      "\n",
      "          0       1.00      1.00      1.00        57\n",
      "          1       1.00      1.00      1.00        43\n",
      "\n",
      "avg / total       1.00      1.00      1.00       100\n",
      "\n"
     ]
    }
   ],
   "source": [
    "# Combined report with all above metrics\n",
    "from sklearn.metrics import classification_report\n",
    "\n",
    "print(classification_report(test_y, pred_yt, target_names=['0', '1']))"
   ]
  },
  {
   "cell_type": "markdown",
   "metadata": {},
   "source": [
    "###### Classification report of cross validation set"
   ]
  },
  {
   "cell_type": "code",
   "execution_count": 37,
   "metadata": {},
   "outputs": [
    {
     "name": "stdout",
     "output_type": "stream",
     "text": [
      "             precision    recall  f1-score   support\n",
      "\n",
      "          0       1.00      1.00      1.00        62\n",
      "          1       1.00      1.00      1.00        38\n",
      "\n",
      "avg / total       1.00      1.00      1.00       100\n",
      "\n"
     ]
    }
   ],
   "source": [
    "# Combined report with all above metrics\n",
    "from sklearn.metrics import classification_report\n",
    "\n",
    "print(classification_report(val_y, pred_yv, target_names=['0', '1']))"
   ]
  },
  {
   "cell_type": "code",
   "execution_count": 38,
   "metadata": {},
   "outputs": [
    {
     "data": {
      "text/plain": [
       "<IPython.core.display.Javascript object>"
      ]
     },
     "metadata": {},
     "output_type": "display_data"
    },
    {
     "data": {
      "text/html": [
       "<img src=\"data:image/png;base64,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\" width=\"640\">"
      ],
      "text/plain": [
       "<IPython.core.display.HTML object>"
      ]
     },
     "metadata": {},
     "output_type": "execute_result"
    },
    {
     "name": "stderr",
     "output_type": "stream",
     "text": [
      "C:\\Users\\sudhi\\Anaconda3\\lib\\site-packages\\matplotlib\\cbook\\deprecation.py:106: MatplotlibDeprecationWarning: Adding an axes using the same arguments as a previous axes currently reuses the earlier instance.  In a future version, a new instance will always be created and returned.  Meanwhile, this warning can be suppressed, and the future behavior ensured, by passing a unique label to each axes instance.\n",
      "  warnings.warn(message, mplDeprecation, stacklevel=1)\n"
     ]
    }
   ],
   "source": [
    "from sklearn.metrics import roc_curve, auc\n",
    "\n",
    "lr = LogisticRegression().fit(train_x, train_y)\n",
    "y_score_lr = lr.fit(train_x, train_y).decision_function(test_x)\n",
    "fpr_lr, tpr_lr, _ = roc_curve(test_y, y_score_lr)\n",
    "roc_auc_lr = auc(fpr_lr, tpr_lr)\n",
    "\n",
    "plt.figure()\n",
    "plt.xlim([-0.01, 1.00])\n",
    "plt.ylim([-0.01, 1.01])\n",
    "plt.plot(fpr_lr, tpr_lr, lw=3, label='LogRegr ROC curve (area = {:0.2f})'.format(roc_auc_lr))\n",
    "plt.xlabel('False Positive Rate', fontsize=16)\n",
    "plt.ylabel('True Positive Rate', fontsize=16)\n",
    "plt.title('ROC curve (1-of-10 digits classifier)', fontsize=16)\n",
    "plt.legend(loc='lower right', fontsize=13)\n",
    "plt.plot([0, 1], [0, 1], color='navy', lw=3, linestyle='--')\n",
    "plt.axes().set_aspect('equal')\n",
    "plt.show()"
   ]
  },
  {
   "cell_type": "markdown",
   "metadata": {
    "collapsed": true
   },
   "source": [
    "Area under curve(AUC) have value 1 which confirms the performance of logistic regression algorithm for the given data is 100%."
   ]
  },
  {
   "cell_type": "markdown",
   "metadata": {
    "collapsed": true
   },
   "source": [
    "## Conclusion"
   ]
  },
  {
   "cell_type": "markdown",
   "metadata": {
    "collapsed": true
   },
   "source": [
    "- My hypothesis was that logistic regression model will give train and test accuracy above 95% as patient data for rehabilition program clearly shows distinict differnce for the people of differnt age group those have particpated in program and those who didn't participate. Simultaneosly majority of people having car particpated in prgram those lived in medium range of distance from program centre, whereas people without car and living at far distances were the most who didn't participate. \n",
    "- Also the test set result and cross validation set results support my hypothesis and instead of 95% accurancy it shows 100% accuracy. Which is clear in its self based upon how the features Age, Distance, Mobility and few reason easily provide distinction to predict those who will participate in the program and those will not. The results are well support by F1 score, ROC Curve and Area Under Curve as their values are 1(not for ROC curve)."
   ]
  },
  {
   "cell_type": "code",
   "execution_count": null,
   "metadata": {
    "collapsed": true
   },
   "outputs": [],
   "source": [
    ""
   ]
  },
  {
   "cell_type": "code",
   "execution_count": null,
   "metadata": {
    "collapsed": true
   },
   "outputs": [],
   "source": [
    ""
   ]
  },
  {
   "cell_type": "code",
   "execution_count": null,
   "metadata": {
    "collapsed": true
   },
   "outputs": [],
   "source": [
    ""
   ]
  },
  {
   "cell_type": "code",
   "execution_count": null,
   "metadata": {
    "collapsed": true
   },
   "outputs": [],
   "source": [
    ""
   ]
  },
  {
   "cell_type": "code",
   "execution_count": null,
   "metadata": {
    "collapsed": true
   },
   "outputs": [],
   "source": [
    ""
   ]
  },
  {
   "cell_type": "code",
   "execution_count": null,
   "metadata": {
    "collapsed": true
   },
   "outputs": [],
   "source": [
    ""
   ]
  }
 ],
 "metadata": {
  "kernelspec": {
   "display_name": "Python 3",
   "language": "python",
   "name": "python3"
  },
  "language_info": {
   "codemirror_mode": {
    "name": "ipython",
    "version": 3.0
   },
   "file_extension": ".py",
   "mimetype": "text/x-python",
   "name": "python",
   "nbconvert_exporter": "python",
   "pygments_lexer": "ipython3",
   "version": "3.6.3"
  }
 },
 "nbformat": 4,
 "nbformat_minor": 0
}